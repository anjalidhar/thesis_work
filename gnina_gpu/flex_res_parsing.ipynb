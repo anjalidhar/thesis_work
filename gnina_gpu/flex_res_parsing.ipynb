{
 "cells": [
  {
   "cell_type": "code",
   "execution_count": 1,
   "metadata": {},
   "outputs": [],
   "source": [
    "import numpy as np\n",
    "import os, sys\n",
    "import warnings, functools\n",
    "import mdtraj as md\n",
    "import itertools"
   ]
  },
  {
   "cell_type": "code",
   "execution_count": 33,
   "metadata": {},
   "outputs": [],
   "source": [
    "import importlib\n",
    "def source_module(module_file: str, local_module_name: str = None):\n",
    "    \"\"\"to add a module from a user defined python script into the local name space\"\"\"\n",
    "    if local_module_name is None:\n",
    "        local_module_name = module_file.split(\"/\")[-1].replace(\".py\", \"\")\n",
    "    if len(module_file.split(\"/\")) == 1 or module_file.split(\"/\")[-2] == \".\":\n",
    "        module_dir = os.getcwd()\n",
    "    else:\n",
    "        module_dir = \"/\".join(module_file.split(\"/\")[:-1])\n",
    "    sys.path.insert(0, module_dir)\n",
    "    module = importlib.import_module(module_file.split(\"/\")[-1].replace(\".py\", \"\"))\n",
    "    g = globals()\n",
    "    g[local_module_name] = module\n",
    "    pass\n",
    "source_module(\"/Users/anjalidhar/Desktop/parsing_functions.py\")"
   ]
  },
  {
   "cell_type": "code",
   "execution_count": 2,
   "metadata": {},
   "outputs": [],
   "source": [
    "def num_str(s, return_str=True, return_num=True):\n",
    "    \n",
    "    s = ''.join(filter(str.isdigit, s))\n",
    "\n",
    "    if return_str and return_num:\n",
    "        return s, int(s)\n",
    "\n",
    "    if return_str:\n",
    "        return s\n",
    "\n",
    "    if return_num:\n",
    "        return int(s)\n",
    "    \n",
    "def sort_strs(strs: list, max=False, indexed: bool=False):\n",
    "    \n",
    "    \"\"\" strs ::: a list or numpy array of strings.\n",
    "        max ::: bool, to sort in terms of greatest index to smallest.\n",
    "        indexed ::: bool, whether or not to filter out strings that don't contain digits.\n",
    "                    if set to False and string list (strs) contains strings without a digit, function \n",
    "                    will return unsorted string list (strs) as an alternative to throwing an error.\"\"\"\n",
    "    \n",
    "    # we have to ensure that each str in strs contains a number otherwise we get an error\n",
    "    check = np.vectorize(lambda s : any(map(str.isdigit, s)))\n",
    "    \n",
    "    if isinstance(strs, list):\n",
    "        strs = np.array(strs)\n",
    "    \n",
    "    # the indexed option allows us to filter out strings that don't contain digits.\n",
    "    ## This prevents an error\n",
    "    if indexed:\n",
    "        strs = strs[check(strs)]\n",
    "\n",
    "    #if indexed != True, then we don't filter the list of input strings and simply return it\n",
    "    ##because an attempt to sort on indices (digits) that aren't present results in an error\n",
    "    else:\n",
    "        if not all(check(strs)):\n",
    "            \n",
    "            warnings.warn(\"Not all strings contain a number, returning unsorted input list to avoid throwing an error. \"\n",
    "                        \"If you want to only consider strings that contain a digit, set indexed to True \")\n",
    "            \n",
    "            return strs\n",
    "    \n",
    "    get_index = np.vectorize(functools.partial(num_str, return_str=False, return_num=True))\n",
    "    indices = get_index(strs).argsort()\n",
    "    \n",
    "    if max:\n",
    "        return strs[np.flip(indices)]\n",
    "    \n",
    "    else:\n",
    "        return strs[indices]\n",
    "def lsdir(dir, keyword: \"list or str\" = None,\n",
    "          exclude: \"list or str\" = None,\n",
    "          indexed:bool=False):\n",
    "    \n",
    "    \"\"\" full path version of os.listdir with files/directories in order\n",
    "    \n",
    "        dir ::: path to a directory (str), required\n",
    "        keyword ::: filter out strings that DO NOT contain this/these substrings (list or str)=None\n",
    "        exclude ::: filter out strings that DO contain this/these substrings (list or str)=None\n",
    "        indexed ::: filter out strings that do not contain digits.\n",
    "                    Is passed to sort_strs function (bool)=False\"\"\"\n",
    "\n",
    "    if dir[-1] == \"/\":\n",
    "        dir = dir[:-1] # slicing out the final '/'\n",
    "\n",
    "    listed_dir = os.listdir(dir) # list out the directory \n",
    "\n",
    "    if keyword is not None:\n",
    "        listed_dir = keyword_strs(listed_dir, keyword) # return all items with keyword\n",
    "    \n",
    "    if exclude is not None:\n",
    "        listed_dir = keyword_strs(listed_dir, keyword=exclude, exclude=True) # return all items without excluded str/list\n",
    "\n",
    "    # Sorting (if possible) and ignoring hidden files that begin with \".\" or \"~$\"\n",
    "    return [f\"{dir}/{i}\" for i in sort_strs(listed_dir, indexed=indexed) if (not i.startswith(\".\")) and (not i.startswith(\"~$\"))] \n",
    "\n",
    "def keyword_strs(strs: list, keyword: \"list or str\", exclude: bool = False):\n",
    "    \n",
    "    if isinstance(keyword, str): # if the keyword is just a string \n",
    "        \n",
    "        if exclude:\n",
    "            filt = lambda string: keyword not in string\n",
    "        \n",
    "        else:\n",
    "            filt = lambda string: keyword in string\n",
    "\n",
    "    else:\n",
    "        if exclude:\n",
    "            filt = lambda string: all(kw not in string for kw in keyword)\n",
    "\n",
    "        else:\n",
    "            filt = lambda string: all(kw in string for kw in keyword)\n",
    "\n",
    "    return list(filter(filt, strs))\n",
    "\n",
    "def keyword_strs2(strs: list,\n",
    "                 keyword: \"list or str\",\n",
    "                 exclude: bool=False,\n",
    "                 match:callable=all):\n",
    "\n",
    "    if isinstance(keyword, str):\n",
    "        if exclude:\n",
    "            filt = lambda string: keyword not in string\n",
    "        \n",
    "        else:\n",
    "            filt = lambda string: keyword in string\n",
    "\n",
    "    else:\n",
    "        if exclude:\n",
    "            filt = lambda string: match(kw not in string for kw in keyword)\n",
    "\n",
    "        else:\n",
    "            filt = lambda string: match(kw in string for kw in keyword)\n",
    "\n",
    "    return list(filter(filt, strs))\n",
    "\n",
    "def filter_strs(strs:list,\n",
    "                keyword: \"list or str\" = None,\n",
    "                exclude: \"list or str\" = None,\n",
    "                match:callable = all):\n",
    "\n",
    "    if keyword is not None:\n",
    "        strs = keyword_strs2(strs, keyword=keyword, exclude=False, match=match)\n",
    "\n",
    "    if exclude is not None:\n",
    "        strs = keyword_strs2(strs, keyword=exclude, exclude=True, match=match)\n",
    "\n",
    "    return strs"
   ]
  },
  {
   "cell_type": "code",
   "execution_count": null,
   "metadata": {},
   "outputs": [],
   "source": []
  },
  {
   "cell_type": "code",
   "execution_count": 16,
   "metadata": {},
   "outputs": [],
   "source": [
    "dir = '/Users/anjalidhar/Desktop/notebooks/23W/gnina-gpu/47onapo/c_16_0_0'\n",
    "gnina_dir = f'{dir}/out'\n",
    "\n",
    "lig_mol2 = f'{dir}/47.mol2'\n",
    "lig_pdbqt = f'{dir}/47.pdbqt'\n",
    "\n",
    "protein_pdb = f'{dir}/protein.pdb'\n",
    "protein_pdbqt = f'{dir}/protein.pdbqt'\n",
    "\n",
    "protein_traj = md.load(protein_pdb)"
   ]
  },
  {
   "cell_type": "code",
   "execution_count": 19,
   "metadata": {},
   "outputs": [],
   "source": [
    "def return_scores_ligsdf_2(gnina_outdir): \n",
    "    \"\"\" For a given gnina frame out directory, will return the filepath of \n",
    "    the isolated lowest-docking score ligand sdf and the score. \n",
    "    Saves a numpy array of docking scores for all residues of the frame in the directory. \n",
    "    NOTE: picks up ligand files from the string 'ligout' .\"\"\"\n",
    "\n",
    "    # Getting lowest score and saving all the scores to an array \n",
    "    ligout_files = lsdir(gnina_outdir, keyword='ligout')\n",
    "    scores = []\n",
    "    for ligfile in ligout_files: \n",
    "        with open(ligfile, 'r') as openfile: \n",
    "            lines = openfile.readlines()\n",
    "            if len(lines)>0: # if we actually have something written in the file\n",
    "                sc_lines = filter_strs(lines, keyword = 'minimizedAffinity', match=any)\n",
    "                marker2 = lines.index(sc_lines[0])\n",
    "                scores.append(float(lines[marker2+1]))\n",
    "            else: \n",
    "                scores.append(0) # otherwise, just append a score of 0 to indicate this frame failed. \n",
    "    np.save(f'{gnina_outdir}/frame_score.npy', np.asarray(scores))\n",
    "\n",
    "    ######\n",
    "\n",
    "    # Now, parsing the lowest score residue for the ligand xyz\n",
    "    best_ligout_file = ligout_files[scores.index(min(scores))]\n",
    "    with open(best_ligout_file, 'r') as openfile: \n",
    "        lines = openfile.readlines()\n",
    "        # getting the best docking score and first marker\n",
    "        score_lines = filter_strs(lines, keyword = 'minimizedAffinity', match=any)\n",
    "        marker3 = lines.index(score_lines[0])\n",
    "        lowest_docking_score = float(lines[marker3+1])\n",
    "\n",
    "        # find the index of the first 'openbabel' line: split with the score line to get the whole molecule. \n",
    "        babel_lines = filter_strs(lines, keyword = 'OpenBabel', match=any)\n",
    "        marker1 = lines.index(babel_lines[0])\n",
    "        ligand_lines = lines[marker1+2:marker3]\n",
    "\n",
    "    with open(f\"{gnina_outdir}/best_{121+scores.index(min(scores))}_out.sdf\", 'w+') as written_file: \n",
    "        for line in ligand_lines: \n",
    "            written_file.write(line)\n",
    "    \n",
    "    # the, returning the sdf file of just the best docked ligand. \n",
    "    return f\"{gnina_outdir}/best_{121+scores.index(min(scores))}_out.sdf\", lowest_docking_score, scores.index(min(scores))\n",
    "    "
   ]
  },
  {
   "cell_type": "code",
   "execution_count": 20,
   "metadata": {},
   "outputs": [],
   "source": [
    "lig_file, score, best_idx = return_scores_ligsdf_2(gnina_dir)"
   ]
  },
  {
   "cell_type": "code",
   "execution_count": 7,
   "metadata": {},
   "outputs": [],
   "source": [
    "# For generating flexible residue list! \n",
    "\n",
    "def intra_residue_distances(traj, d0:int=1): \n",
    "    \"\"\" Returns a distance matrix of shape (n_frames, n_res, n_res) of the intramolecular distances \n",
    "    between residues of a given trajectory object. \"\"\"\n",
    "\n",
    "    def combinations(x):\n",
    "        return np.asarray(list(itertools.combinations(x, 2)))\n",
    "    \n",
    "    n = len([res for res in traj.topology.residues])\n",
    "    index_0 = np.arange(n)\n",
    "    indices = combinations(index_0)\n",
    "    distances = md.compute_contacts(traj, indices)[0]*10\n",
    "\n",
    "    # info about flattened distance matrix\n",
    "    N, d = distances.shape\n",
    "\n",
    "    matrix = np.zeros([N] + [n] * 2)\n",
    "    i, j = np.triu_indices(n, d0)\n",
    "    matrix[:, i, j] = distances\n",
    "    return matrix + matrix.transpose(0, 2, 1)\n",
    "\n",
    "def return_flex_residues(pro_traj_obj,  cutoff=5, flex_res_cut=None):\n",
    "    \"\"\" Returns a matrix with shape (n_frames, n_res, n_res) or (n_frames, n_res, flex_res_cutoff)\n",
    "    the resSeqs of residues within the cutoff to the docking residue of question.   \n",
    "    If not, will return zeroes in place of resSeq.\"\"\"\n",
    "    residues = [res.resSeq for res in pro_traj_obj.topology.residues]\n",
    "    # residue intramolecular distances --> shape: (n_frames, n_res, n_res)\n",
    "    n_res = len(residues)\n",
    "    intra_dist = intra_residue_distances(pro_traj_obj)\n",
    "\n",
    "    if flex_res_cut==None: \n",
    "        res_idx = np.zeros((intra_dist.shape[0],n_res, n_res))\n",
    "        for i, frame in enumerate(intra_dist):\n",
    "            for j, res in enumerate(frame): \n",
    "                sorted_idx = np.argsort(res) # will always include the residue of question, so ignore it\n",
    "                for k, idx in enumerate(sorted_idx):\n",
    "                    if res[idx]<cutoff: \n",
    "                        res_idx[i][j][k] = residues[idx]\n",
    "        return res_idx\n",
    "\n",
    "    else: \n",
    "        #Initializing matrix for residue indices we choose \n",
    "        res_idx = np.zeros((int(intra_dist.shape[0]),int(intra_dist.shape[1]),int(flex_res_cutoff)))\n",
    "        for i, frame in enumerate(intra_dist):\n",
    "            for j, res in enumerate(frame): \n",
    "                sorted_idx = np.argsort(res)[:flex_res_cutoff] # including docking residue\n",
    "                for k, idx in enumerate(sorted_idx):\n",
    "                    if res[idx]<cutoff: \n",
    "                        res_idx[i][j][k] = residues[idx]\n",
    "        return res_idx"
   ]
  },
  {
   "cell_type": "code",
   "execution_count": 8,
   "metadata": {},
   "outputs": [
    {
     "data": {
      "text/plain": [
       "11"
      ]
     },
     "execution_count": 8,
     "metadata": {},
     "output_type": "execute_result"
    }
   ],
   "source": [
    "# the index for the lowest energy binding mode for the one frame\n",
    "best_idx"
   ]
  },
  {
   "cell_type": "code",
   "execution_count": 14,
   "metadata": {},
   "outputs": [
    {
     "data": {
      "text/plain": [
       "(1, 20, 20)"
      ]
     },
     "execution_count": 14,
     "metadata": {},
     "output_type": "execute_result"
    }
   ],
   "source": [
    "# a matrix with all of the residues made flexible for each docking run, on each residue \n",
    "flex_mat = return_flex_residues(protein_traj,  cutoff=5, flex_res_cut=None)\n",
    "flex_mat.shape"
   ]
  },
  {
   "cell_type": "code",
   "execution_count": 10,
   "metadata": {},
   "outputs": [],
   "source": [
    "# loading in the non flexible residues\n",
    "frame = 0\n",
    "not_flexible_residues = [124, 128, 132, 138, 140]"
   ]
  },
  {
   "cell_type": "code",
   "execution_count": 21,
   "metadata": {},
   "outputs": [],
   "source": [
    "# now, pulling the flexible residues for the lowest energy docking residue \n",
    "# disregarding those that aren't flexible\n",
    "flex_idx = [int(x) for x in list(flex_mat[frame][best_idx]) if x not in not_flexible_residues and x!=0]\n",
    "flex_idx.sort()"
   ]
  },
  {
   "cell_type": "code",
   "execution_count": 207,
   "metadata": {},
   "outputs": [
    {
     "data": {
      "text/plain": [
       "[]"
      ]
     },
     "execution_count": 207,
     "metadata": {},
     "output_type": "execute_result"
    }
   ],
   "source": [
    "keyword_strs([\"CA\"], keyword=\"A\", exclude=True)"
   ]
  },
  {
   "cell_type": "code",
   "execution_count": 188,
   "metadata": {},
   "outputs": [
    {
     "data": {
      "text/plain": [
       "[129, 130, 131, 133, 134]"
      ]
     },
     "execution_count": 188,
     "metadata": {},
     "output_type": "execute_result"
    }
   ],
   "source": [
    "# the residues, in order, that were made flexible for the lowest energy docking residue \n",
    "flex_idx "
   ]
  },
  {
   "cell_type": "code",
   "execution_count": 31,
   "metadata": {},
   "outputs": [],
   "source": [
    "# loading in\n",
    "flex_protein_sdfs = lsdir(gnina_dir, keyword='protein_out')\n",
    "pro_out_sdf = flex_protein_sdfs[best_idx]"
   ]
  },
  {
   "cell_type": "code",
   "execution_count": 176,
   "metadata": {},
   "outputs": [
    {
     "name": "stdout",
     "output_type": "stream",
     "text": [
      "[MET127-N, MET127-CA, MET127-C, MET127-O, MET127-CB, MET127-CG, MET127-SD, MET127-CE, MET127-H, MET127-HA, MET127-HB2, MET127-HB3, MET127-HG2, MET127-HG3, MET127-HE1, MET127-HE2, MET127-HE3]\n",
      "[ALA140-N, ALA140-CA, ALA140-C, ALA140-O, ALA140-CB, ALA140-OXT, ALA140-H, ALA140-HA, ALA140-HB1, ALA140-HB2, ALA140-HB3]\n",
      "[TYR133-N, TYR133-CA, TYR133-C, TYR133-O, TYR133-CB, TYR133-CG, TYR133-CD1, TYR133-CD2, TYR133-CE1, TYR133-CE2, TYR133-CZ, TYR133-OH, TYR133-H, TYR133-HA, TYR133-HB2, TYR133-HB3, TYR133-HD1, TYR133-HD2, TYR133-HE1, TYR133-HE2, TYR133-HH]\n",
      "[PRO128-N, PRO128-CA, PRO128-C, PRO128-O, PRO128-CB, PRO128-CG, PRO128-CD, PRO128-HA, PRO128-HB2, PRO128-HB3, PRO128-HG2, PRO128-HG3, PRO128-HD2, PRO128-HD3]\n",
      "[ASP121-N, ASP121-CA, ASP121-C, ASP121-O, ASP121-CB, ASP121-CG, ASP121-OD1, ASP121-OD2, ASP121-H, ASP121-HA, ASP121-HB2, ASP121-HB3, ASP121-H, ASP121-H]\n",
      "[TYR125-N, TYR125-CA, TYR125-C, TYR125-O, TYR125-CB, TYR125-CG, TYR125-CD1, TYR125-CD2, TYR125-CE1, TYR125-CE2, TYR125-CZ, TYR125-OH, TYR125-H, TYR125-HA, TYR125-HB2, TYR125-HB3, TYR125-HD1, TYR125-HD2, TYR125-HE1, TYR125-HE2, TYR125-HH]\n",
      "[GLU123-N, GLU123-CA, GLU123-C, GLU123-O, GLU123-CB, GLU123-CG, GLU123-CD, GLU123-OE1, GLU123-OE2, GLU123-H, GLU123-HA, GLU123-HB2, GLU123-HB3, GLU123-HG2, GLU123-HG3]\n",
      "[GLU137-N, GLU137-CA, GLU137-C, GLU137-O, GLU137-CB, GLU137-CG, GLU137-CD, GLU137-OE1, GLU137-OE2, GLU137-H, GLU137-HA, GLU137-HB2, GLU137-HB3, GLU137-HG2, GLU137-HG3]\n",
      "[GLU131-N, GLU131-CA, GLU131-C, GLU131-O, GLU131-CB, GLU131-CG, GLU131-CD, GLU131-OE1, GLU131-OE2, GLU131-H, GLU131-HA, GLU131-HB2, GLU131-HB3, GLU131-HG2, GLU131-HG3]\n",
      "[ASN122-N, ASN122-CA, ASN122-C, ASN122-O, ASN122-CB, ASN122-CG, ASN122-OD1, ASN122-ND2, ASN122-H, ASN122-HA, ASN122-HB2, ASN122-HB3, ASN122-HD21, ASN122-HD22]\n",
      "[PRO138-N, PRO138-CA, PRO138-C, PRO138-O, PRO138-CB, PRO138-CG, PRO138-CD, PRO138-HA, PRO138-HB2, PRO138-HB3, PRO138-HG2, PRO138-HG3, PRO138-HD2, PRO138-HD3]\n",
      "[ASP135-N, ASP135-CA, ASP135-C, ASP135-O, ASP135-CB, ASP135-CG, ASP135-OD1, ASP135-OD2, ASP135-H, ASP135-HA, ASP135-HB2, ASP135-HB3]\n",
      "[SER129-N, SER129-CA, SER129-C, SER129-O, SER129-CB, SER129-OG, SER129-H, SER129-HA, SER129-HB2, SER129-HB3, SER129-HG]\n",
      "[GLY132-N, GLY132-CA, GLY132-C, GLY132-O, GLY132-H, GLY132-HA2, GLY132-HA3]\n",
      "[GLU130-N, GLU130-CA, GLU130-C, GLU130-O, GLU130-CB, GLU130-CG, GLU130-CD, GLU130-OE1, GLU130-OE2, GLU130-H, GLU130-HA, GLU130-HB2, GLU130-HB3, GLU130-HG2, GLU130-HG3]\n",
      "[ALA124-N, ALA124-CA, ALA124-C, ALA124-O, ALA124-CB, ALA124-H, ALA124-HA, ALA124-HB1, ALA124-HB2, ALA124-HB3]\n",
      "[TYR136-N, TYR136-CA, TYR136-C, TYR136-O, TYR136-CB, TYR136-CG, TYR136-CD1, TYR136-CD2, TYR136-CE1, TYR136-CE2, TYR136-CZ, TYR136-OH, TYR136-H, TYR136-HA, TYR136-HB2, TYR136-HB3, TYR136-HD1, TYR136-HD2, TYR136-HE1, TYR136-HE2, TYR136-HH]\n",
      "[GLU126-N, GLU126-CA, GLU126-C, GLU126-O, GLU126-CB, GLU126-CG, GLU126-CD, GLU126-OE1, GLU126-OE2, GLU126-H, GLU126-HA, GLU126-HB2, GLU126-HB3, GLU126-HG2, GLU126-HG3]\n",
      "[GLU139-N, GLU139-CA, GLU139-C, GLU139-O, GLU139-CB, GLU139-CG, GLU139-CD, GLU139-OE1, GLU139-OE2, GLU139-H, GLU139-HA, GLU139-HB2, GLU139-HB3, GLU139-HG2, GLU139-HG3]\n",
      "[GLN134-N, GLN134-CA, GLN134-C, GLN134-O, GLN134-CB, GLN134-CG, GLN134-CD, GLN134-OE1, GLN134-NE2, GLN134-H, GLN134-HA, GLN134-HB2, GLN134-HB3, GLN134-HG2, GLN134-HG3, GLN134-HE21, GLN134-HE22]\n"
     ]
    }
   ],
   "source": [
    "for r in set(protein_traj.top.residues):\n",
    "    print(list(r.atoms))\n"
   ]
  },
  {
   "cell_type": "code",
   "execution_count": 189,
   "metadata": {},
   "outputs": [],
   "source": [
    "sidechain_traj = protein_traj.atom_slice(protein_traj.top.select(\"sidechain or name CA or name \"))"
   ]
  },
  {
   "cell_type": "code",
   "execution_count": 217,
   "metadata": {},
   "outputs": [
    {
     "data": {
      "text/plain": [
       "[129, 130, 131, 133, 134]"
      ]
     },
     "execution_count": 217,
     "metadata": {},
     "output_type": "execute_result"
    }
   ],
   "source": [
    "flex_idx"
   ]
  },
  {
   "cell_type": "code",
   "execution_count": null,
   "metadata": {},
   "outputs": [],
   "source": []
  },
  {
   "cell_type": "code",
   "execution_count": 216,
   "metadata": {},
   "outputs": [
    {
     "data": {
      "text/plain": [
       "<mdtraj.Trajectory with 1 frames, 39 atoms, 5 residues, without unitcells at 0x166080bd0>"
      ]
     },
     "execution_count": 216,
     "metadata": {},
     "output_type": "execute_result"
    }
   ],
   "source": [
    "sdf"
   ]
  },
  {
   "cell_type": "code",
   "execution_count": 215,
   "metadata": {},
   "outputs": [],
   "source": [
    "hydrogen_dict = {\n",
    "    \"ALA\":[\"\"], \n",
    "    \"VAL\":[\"\"], \n",
    "    \"ILE\":[\"\"],\n",
    "    \"VAL\":[\"\"],\n",
    "    \"LEU\":[\"\"], \n",
    "    \"PHE\":[\"\"], \n",
    "    \"MET\":[''],\n",
    "    \"PRO\":[''],\n",
    "    \"GLY\":[\"\"],\n",
    "    \"ASP\":[\"\"],\n",
    "    \"GLU\":[''],\n",
    "    \"TRP\":[\"\"], \n",
    "    \"CYS\":[''],\n",
    "    \"SER\":['HG'], \n",
    "    \"THR\":[''],\n",
    "    \"ASN\":['HD21', 'HD22'],\n",
    "    \"GLN\":['HE21', 'HE22'],\n",
    "    \"ARG\":[\"\"],\n",
    "    \"HIS\":[\"\"],\n",
    "    \"LYS\":[\"\"],\n",
    "    \"TYR\":[\"HH\"]\n",
    "    }"
   ]
  },
  {
   "cell_type": "code",
   "execution_count": 214,
   "metadata": {},
   "outputs": [
    {
     "data": {
      "text/plain": [
       "[ASP121,\n",
       " ASN122,\n",
       " GLU123,\n",
       " ALA124,\n",
       " TYR125,\n",
       " GLU126,\n",
       " MET127,\n",
       " PRO128,\n",
       " SER129,\n",
       " GLU130,\n",
       " GLU131,\n",
       " GLY132,\n",
       " TYR133,\n",
       " GLN134,\n",
       " ASP135,\n",
       " TYR136,\n",
       " GLU137,\n",
       " PRO138,\n",
       " GLU139,\n",
       " ALA140]"
      ]
     },
     "execution_count": 214,
     "metadata": {},
     "output_type": "execute_result"
    }
   ],
   "source": [
    "list(protein_traj.top.residues)"
   ]
  },
  {
   "cell_type": "code",
   "execution_count": 212,
   "metadata": {},
   "outputs": [
    {
     "name": "stdout",
     "output_type": "stream",
     "text": [
      "ASP121\n",
      "['HB2', 'HB3']\n",
      "ASN122\n",
      "['HB2', 'HB3', 'HD21', 'HD22']\n",
      "GLU123\n",
      "['HB2', 'HB3', 'HG2', 'HG3']\n",
      "ALA124\n",
      "['HB1', 'HB2', 'HB3']\n",
      "TYR125\n",
      "['OH', 'HB2', 'HB3', 'HD1', 'HD2', 'HE1', 'HE2', 'HH']\n",
      "GLU126\n",
      "['HB2', 'HB3', 'HG2', 'HG3']\n",
      "MET127\n",
      "['HB2', 'HB3', 'HG2', 'HG3', 'HE1', 'HE2', 'HE3']\n",
      "PRO128\n",
      "['HB2', 'HB3', 'HG2', 'HG3', 'HD2', 'HD3']\n",
      "SER129\n",
      "['HB2', 'HB3', 'HG']\n",
      "GLU130\n",
      "['HB2', 'HB3', 'HG2', 'HG3']\n",
      "GLU131\n",
      "['HB2', 'HB3', 'HG2', 'HG3']\n",
      "GLY132\n",
      "['HA2', 'HA3']\n",
      "TYR133\n",
      "['OH', 'HB2', 'HB3', 'HD1', 'HD2', 'HE1', 'HE2', 'HH']\n",
      "GLN134\n",
      "['HB2', 'HB3', 'HG2', 'HG3', 'HE21', 'HE22']\n",
      "ASP135\n",
      "['HB2', 'HB3']\n",
      "TYR136\n",
      "['OH', 'HB2', 'HB3', 'HD1', 'HD2', 'HE1', 'HE2', 'HH']\n",
      "GLU137\n",
      "['HB2', 'HB3', 'HG2', 'HG3']\n",
      "PRO138\n",
      "['HB2', 'HB3', 'HG2', 'HG3', 'HD2', 'HD3']\n",
      "GLU139\n",
      "['HB2', 'HB3', 'HG2', 'HG3']\n",
      "ALA140\n",
      "['HB1', 'HB2', 'HB3']\n"
     ]
    }
   ],
   "source": [
    "fxn = lambda x : ~any((i in x for i in (\"A\", \"B\")))\n",
    "for r in sidechain_traj.top.residues:\n",
    "   print(r)\n",
    "   strs = list(map(str,list(r.atoms)))\n",
    "   strs = [s.split(\"-\")[-1] for s in strs]\n",
    "   strs = filter_strs(strs, exclude=\"A,B\".split(\",\"), keyword=\"H\", match=any)\n",
    "   print(strs)\n",
    "\n"
   ]
  },
  {
   "cell_type": "code",
   "execution_count": 188,
   "metadata": {},
   "outputs": [
    {
     "data": {
      "text/plain": [
       "[ASP121-N,\n",
       " ASP121-CA,\n",
       " ASP121-C,\n",
       " ASP121-O,\n",
       " ASP121-CB,\n",
       " ASP121-CG,\n",
       " ASP121-OD1,\n",
       " ASP121-OD2,\n",
       " ASP121-H,\n",
       " ASP121-HA,\n",
       " ASP121-HB2,\n",
       " ASP121-HB3,\n",
       " ASP121-H,\n",
       " ASP121-H]"
      ]
     },
     "execution_count": 188,
     "metadata": {},
     "output_type": "execute_result"
    }
   ],
   "source": [
    "list(protein_traj.top.residue(0).atoms)"
   ]
  },
  {
   "cell_type": "code",
   "execution_count": 36,
   "metadata": {},
   "outputs": [],
   "source": [
    "flex_xyz = parsing_functions.ligand_xyz(pro_out_sdf)"
   ]
  },
  {
   "cell_type": "code",
   "execution_count": 59,
   "metadata": {},
   "outputs": [
    {
     "data": {
      "text/plain": [
       "'residue 129 or residue 130 or residue 131 or residue 133 or residue 134'"
      ]
     },
     "execution_count": 59,
     "metadata": {},
     "output_type": "execute_result"
    }
   ],
   "source": [
    "sele_str = lambda l : \" or \".join([f\"residue {i}\" for i in l])\n",
    "sele_str(flex_idx)"
   ]
  },
  {
   "cell_type": "code",
   "execution_count": 61,
   "metadata": {},
   "outputs": [],
   "source": [
    "flex_traj = protein_traj.atom_slice(protein_traj.top.select(sele_str(flex_idx)))\n",
    "true_top = flex_traj.top"
   ]
  },
  {
   "cell_type": "code",
   "execution_count": null,
   "metadata": {},
   "outputs": [],
   "source": [
    "def resort_traj(traj, indices): \n",
    "    \"\"\" Resorts a trajectory from a set of indices. \"\"\" \n",
    "    table, bonds = traj.topology.to_dataframe()\n",
    "    # Sort based on indices, then reset the table index \n",
    "    table = table.reindex(indices).set_index(np.arange(0,len(table)))\n",
    "    # replace the old atom index to be ascending i.e 1,2,3....N \n",
    "    table[\"serial\"] = np.arange(1,len(table)+1)\n",
    "    # The new topology from the data frame \n",
    "    top = md.Topology.from_dataframe(table,bonds)\n",
    "    # And then the loading the new traj from the new top! \n",
    "    newtraj = md.Trajectory(xyz = traj.xyz[:,indices], topology=top)\n",
    "    return newtraj\n",
    "    "
   ]
  },
  {
   "cell_type": "code",
   "execution_count": 108,
   "metadata": {},
   "outputs": [],
   "source": [
    "from openbabel import openbabel\n",
    "def sdf_to_pdb(sdf, pdb):\n",
    "    \"\"\" Converts sdf files to pdb files using open babel. \"\"\" \n",
    "    obConversion = openbabel.OBConversion()\n",
    "    obConversion.SetInAndOutFormats(\"sdf\", \"pdb\")\n",
    "    mol = openbabel.OBMol()\n",
    "    obConversion.ReadFile(mol, sdf) \n",
    "    obConversion.WriteFile(mol, pdb) \n",
    "    return pdb"
   ]
  },
  {
   "cell_type": "code",
   "execution_count": 107,
   "metadata": {},
   "outputs": [
    {
     "name": "stderr",
     "output_type": "stream",
     "text": [
      "/Users/anjalidhar/anaconda3/envs/test/lib/python3.11/site-packages/openbabel/__init__.py:14: UserWarning: \"import openbabel\" is deprecated, instead use \"from openbabel import openbabel\"\n",
      "  warnings.warn('\"import openbabel\" is deprecated, instead use \"from openbabel import openbabel\"')\n"
     ]
    }
   ],
   "source": [
    "sdf_pdb = sdf_to_pdb(pro_out_sdf, '/Users/anjalidhar/Desktop/sdf_pdb.pdb')"
   ]
  },
  {
   "cell_type": "code",
   "execution_count": 183,
   "metadata": {},
   "outputs": [],
   "source": []
  },
  {
   "cell_type": "code",
   "execution_count": 184,
   "metadata": {},
   "outputs": [
    {
     "data": {
      "text/plain": [
       "20"
      ]
     },
     "execution_count": 184,
     "metadata": {},
     "output_type": "execute_result"
    }
   ],
   "source": [
    "len(hydrogen_dict.keys())"
   ]
  },
  {
   "cell_type": "code",
   "execution_count": null,
   "metadata": {},
   "outputs": [],
   "source": [
    "def replace_sidechain(traj0, traj1):\n",
    "    \n",
    "\n"
   ]
  },
  {
   "cell_type": "code",
   "execution_count": null,
   "metadata": {},
   "outputs": [],
   "source": [
    "\"(residue 129) and ((sidechain and (type H bonded name O)) or type C or (sidechain and not type H))\"\n",
    "\"(residue 129) and ((sidechain) or type C or (type H bonded name O))\"\n",
    "\"(residue 129) and (sidechain and (type H bonded name O) )\""
   ]
  },
  {
   "cell_type": "code",
   "execution_count": 219,
   "metadata": {},
   "outputs": [],
   "source": [
    "a = 9\n",
    "a = a*10 if a == 9 else 0"
   ]
  },
  {
   "cell_type": "code",
   "execution_count": 229,
   "metadata": {},
   "outputs": [
    {
     "data": {
      "text/plain": [
       "{'ALA': [''],\n",
       " 'VAL': [''],\n",
       " 'ILE': [''],\n",
       " 'LEU': [''],\n",
       " 'PHE': [''],\n",
       " 'MET': [''],\n",
       " 'PRO': [''],\n",
       " 'GLY': [''],\n",
       " 'ASP': [''],\n",
       " 'GLU': [''],\n",
       " 'TRP': [''],\n",
       " 'CYS': [''],\n",
       " 'SER': ['HG'],\n",
       " 'THR': [''],\n",
       " 'ASN': ['HD21', 'HD22'],\n",
       " 'GLN': ['HE21', 'HE22'],\n",
       " 'ARG': [''],\n",
       " 'HIS': [''],\n",
       " 'LYS': [''],\n",
       " 'TYR': ['HH']}"
      ]
     },
     "execution_count": 229,
     "metadata": {},
     "output_type": "execute_result"
    }
   ],
   "source": [
    "hydrogen_dict"
   ]
  },
  {
   "cell_type": "code",
   "execution_count": 235,
   "metadata": {},
   "outputs": [],
   "source": [
    "def fmtr(index:int, residue:str):\n",
    "    sel = (\" or name \"+\" or name \".join(hydrogen_dict[residue]) if len(hydrogen_dict[residue])>1 else f\" or name {hydrogen_dict[residue][0]}\"\n",
    "          if hydrogen_dict[residue] != \"\" else \"\")\n",
    "\n",
    "    return f\"residue {index} and not type H and (sidechain or name CA or name C){sel}\""
   ]
  },
  {
   "cell_type": "code",
   "execution_count": 237,
   "metadata": {},
   "outputs": [
    {
     "data": {
      "text/plain": [
       "<mdtraj.Trajectory with 1 frames, 6 atoms, 2 residues, without unitcells at 0x1136dfc50>"
      ]
     },
     "execution_count": 237,
     "metadata": {},
     "output_type": "execute_result"
    }
   ],
   "source": [
    "protein_traj.atom_slice(protein_traj.top.select(fmtr(129, \"ASN\")))"
   ]
  },
  {
   "cell_type": "code",
   "execution_count": null,
   "metadata": {},
   "outputs": [],
   "source": []
  },
  {
   "cell_type": "code",
   "execution_count": 236,
   "metadata": {},
   "outputs": [
    {
     "data": {
      "text/plain": [
       "'residue 129 and not type H and (sidechain or name CA or name C) or name HD21 or name HD22'"
      ]
     },
     "execution_count": 236,
     "metadata": {},
     "output_type": "execute_result"
    }
   ],
   "source": [
    "fmtr(129, \"ASN\")"
   ]
  },
  {
   "cell_type": "code",
   "execution_count": 238,
   "metadata": {},
   "outputs": [
    {
     "name": "stdout",
     "output_type": "stream",
     "text": [
      "[SER129-CA, SER129-C, SER129-CB, SER129-OG, SER129-HG]\n",
      "[UNL1-C, UNL1-C, UNL1-C, UNL1-O, UNL1-H]\n",
      "[[[ 0.888 -0.106 -0.24 ]\n",
      "  [ 0.754 -0.076 -0.307]\n",
      "  [ 0.934 -0.249 -0.291]\n",
      "  [ 0.86  -0.347 -0.218]\n",
      "  [ 0.893 -0.435 -0.236]]]\n",
      "[[[ 0.888  -0.106  -0.24  ]\n",
      "  [ 0.754  -0.076  -0.307 ]\n",
      "  [ 0.934  -0.249  -0.291 ]\n",
      "  [ 0.818  -0.3321 -0.2977]\n",
      "  [ 0.8421 -0.4229 -0.3158]]]\n"
     ]
    }
   ],
   "source": [
    "real_1 = protein_traj.atom_slice(protein_traj.top.select(fmtr(129, \"SER\")))\n",
    "sdf_1 = sdf.atom_slice(sdf.top.select(\"residue 1\"))\n",
    "\n",
    "print(list(real_1.top.atoms))\n",
    "print(list(sdf_1.top.atoms))\n",
    "\n",
    "print(real_1.xyz)\n",
    "print(sdf_1.xyz)\n"
   ]
  },
  {
   "cell_type": "code",
   "execution_count": null,
   "metadata": {},
   "outputs": [],
   "source": []
  },
  {
   "cell_type": "code",
   "execution_count": 110,
   "metadata": {},
   "outputs": [],
   "source": [
    "sdf = md.load(sdf_pdb)"
   ]
  },
  {
   "cell_type": "code",
   "execution_count": 103,
   "metadata": {},
   "outputs": [],
   "source": [
    "atoms = [f\"{i}{j}\" for j,i in enumerate(atoms)]"
   ]
  },
  {
   "cell_type": "code",
   "execution_count": 97,
   "metadata": {},
   "outputs": [],
   "source": [
    "with open(\"/Users/anjalidhar/scratch\", \"r\") as file:\n",
    "    atoms = file.readlines()"
   ]
  },
  {
   "cell_type": "code",
   "execution_count": 100,
   "metadata": {},
   "outputs": [],
   "source": [
    "import os\n",
    "atoms = [i.replace(os.linesep, \"\") for i in atoms[1:]]"
   ]
  },
  {
   "cell_type": "code",
   "execution_count": 84,
   "metadata": {},
   "outputs": [
    {
     "ename": "TypeError",
     "evalue": "Topology.__init__() takes 1 positional argument but 2 were given",
     "output_type": "error",
     "traceback": [
      "\u001b[0;31m---------------------------------------------------------------------------\u001b[0m",
      "\u001b[0;31mTypeError\u001b[0m                                 Traceback (most recent call last)",
      "\u001b[1;32m/Users/anjalidhar/Desktop/notebooks/23W/gnina-gpu/flex_res_parsing.ipynb Cell 24\u001b[0m line \u001b[0;36m1\n\u001b[0;32m----> <a href='vscode-notebook-cell:/Users/anjalidhar/Desktop/notebooks/23W/gnina-gpu/flex_res_parsing.ipynb#X55sZmlsZQ%3D%3D?line=0'>1</a>\u001b[0m md\u001b[39m.\u001b[39;49mTopology(pd\u001b[39m.\u001b[39;49mDataFrame(flex_xyz[:\u001b[39m79\u001b[39;49m]))\n",
      "\u001b[0;31mTypeError\u001b[0m: Topology.__init__() takes 1 positional argument but 2 were given"
     ]
    }
   ],
   "source": [
    "md.Topology(pd.DaataFrame(flex_xyz[:79]))"
   ]
  },
  {
   "cell_type": "code",
   "execution_count": 66,
   "metadata": {},
   "outputs": [],
   "source": [
    "fix_traj = md.Trajectory(flex_xyz[:79], topology=true_top)"
   ]
  },
  {
   "cell_type": "code",
   "execution_count": 80,
   "metadata": {},
   "outputs": [
    {
     "data": {
      "text/plain": [
       "array([[[ 8.88 , -1.06 , -2.4  ],\n",
       "        [ 7.54 , -0.76 , -3.07 ],\n",
       "        [ 9.34 , -2.49 , -2.91 ],\n",
       "        [ 8.18 , -3.321, -2.977],\n",
       "        [ 8.421, -4.229, -3.158],\n",
       "        [ 6.46 , -0.14 , -5.3  ],\n",
       "        [ 5.89 , -1.51 , -5.66 ],\n",
       "        [ 6.94 ,  0.63 , -6.55 ],\n",
       "        [ 6.741,  2.134, -6.548],\n",
       "        [ 8.098,  2.767, -6.325],\n",
       "        [ 8.477,  3.73 , -7.085]]], dtype=float32)"
      ]
     },
     "execution_count": 80,
     "metadata": {},
     "output_type": "execute_result"
    }
   ],
   "source": [
    "fix_traj.atom_slice(fix_traj.top.select(\"resid 0\")).xyz"
   ]
  },
  {
   "cell_type": "code",
   "execution_count": 113,
   "metadata": {},
   "outputs": [
    {
     "data": {
      "text/plain": [
       "4.443037974683544"
      ]
     },
     "execution_count": 113,
     "metadata": {},
     "output_type": "execute_result"
    }
   ],
   "source": [
    "351/79"
   ]
  },
  {
   "cell_type": "code",
   "execution_count": 112,
   "metadata": {},
   "outputs": [
    {
     "data": {
      "text/plain": [
       "(351, 3)"
      ]
     },
     "execution_count": 112,
     "metadata": {},
     "output_type": "execute_result"
    }
   ],
   "source": [
    "flex_xyz.shape"
   ]
  },
  {
   "cell_type": "code",
   "execution_count": 73,
   "metadata": {},
   "outputs": [
    {
     "data": {
      "text/plain": [
       "[SER129-N,\n",
       " SER129-CA,\n",
       " SER129-C,\n",
       " SER129-O,\n",
       " SER129-CB,\n",
       " SER129-OG,\n",
       " SER129-H,\n",
       " SER129-HA,\n",
       " SER129-HB2,\n",
       " SER129-HB3,\n",
       " SER129-HG]"
      ]
     },
     "execution_count": 73,
     "metadata": {},
     "output_type": "execute_result"
    }
   ],
   "source": [
    "list(fix_traj.top.residue(0).atoms)\n"
   ]
  },
  {
   "cell_type": "code",
   "execution_count": 69,
   "metadata": {},
   "outputs": [
    {
     "data": {
      "text/plain": [
       "[SER129, GLU130, GLU131, TYR133, GLN134]"
      ]
     },
     "execution_count": 69,
     "metadata": {},
     "output_type": "execute_result"
    }
   ],
   "source": [
    "list(fix_traj.top.residues)"
   ]
  },
  {
   "cell_type": "code",
   "execution_count": 29,
   "metadata": {},
   "outputs": [
    {
     "name": "stdout",
     "output_type": "stream",
     "text": [
      " 39 35  0  0  0  0  0  0  0  0999 V2000\n",
      "\n",
      "    8.8800   -1.0600   -2.4000 C   0  0  0  0  0  2  0  0  0  0  0  0\n",
      "\n",
      "    7.5400   -0.7600   -3.0700 C   0  0  0  0  0  1  0  0  0  0  0  0\n",
      "\n",
      "    9.3400   -2.4900   -2.9100 C   0  0  0  0  0  2  0  0  0  0  0  0\n",
      "\n",
      "    8.1800   -3.3210   -2.9770 O   0  0  0  0  0  0  0  0  0  0  0  0\n",
      "\n",
      "    8.4210   -4.2290   -3.1580 H   0  0  0  0  0  0  0  0  0  0  0  0\n",
      "\n",
      "    6.4600   -0.1400   -5.3000 C   0  0  0  0  0  2  0  0  0  0  0  0\n",
      "\n",
      "    5.8900   -1.5100   -5.6600 C   0  0  0  0  0  1  0  0  0  0  0  0\n",
      "\n",
      "    6.9400    0.6300   -6.5500 C   0  0  0  0  0  2  0  0  0  0  0  0\n",
      "\n",
      "    6.7410    2.1340   -6.5480 C   0  0  0  0  0  2  0  0  0  0  0  0\n",
      "\n",
      "    8.0980    2.7670   -6.3250 C   0  0  0  0  0  0  0  0  0  0  0  0\n",
      "\n",
      "    8.4770    3.7300   -7.0850 O   0  0  0  0  0  0  0  0  0  0  0  0\n",
      "\n",
      "    8.7320    2.4400   -5.2860 O   0  0  0  0  0  1  0  0  0  0  0  0\n",
      "\n",
      "    6.3900   -4.0000   -5.8800 C   0  0  0  0  0  2  0  0  0  0  0  0\n",
      "\n",
      "    7.6200   -4.8200   -5.5400 C   0  0  0  0  0  1  0  0  0  0  0  0\n",
      "\n",
      "    5.7100   -4.5200   -7.2000 C   0  0  0  0  0  2  0  0  0  0  0  0\n",
      "\n",
      "    6.7550   -4.9020   -8.2770 C   0  0  0  0  0  2  0  0  0  0  0  0\n",
      "\n",
      "    7.1490   -3.7720   -9.2590 C   0  0  0  0  0  0  0  0  0  0  0  0\n",
      "\n",
      "    6.6630   -3.6960  -10.3970 O   0  0  0  0  0  0  0  0  0  0  0  0\n",
      "\n",
      "    7.8650   -2.8570   -8.7820 O   0  0  0  0  0  1  0  0  0  0  0  0\n",
      "\n",
      "   11.9400   -7.0200   -3.1500 C   0  0  0  0  0  2  0  0  0  0  0  0\n",
      "\n",
      "   13.1300   -7.1300   -4.0700 C   0  0  0  0  0  1  0  0  0  0  0  0\n",
      "\n",
      "   12.1500   -7.9400   -1.9400 C   0  0  0  0  0  2  0  0  0  0  0  0\n",
      "\n",
      "   12.6370   -7.1990   -0.7360 C   0  0  0  0  0  0  0  0  0  0  0  0\n",
      "\n",
      "   11.9630   -7.4740    0.5040 C   0  0  0  0  0  3  0  0  0  0  0  0\n",
      "\n",
      "   13.7450   -6.2760   -0.7320 C   0  0  0  0  0  3  0  0  0  0  0  0\n",
      "\n",
      "   12.2580   -6.7500    1.6250 C   0  0  0  0  0  3  0  0  0  0  0  0\n",
      "\n",
      "   14.0070   -5.5250    0.4360 C   0  0  0  0  0  3  0  0  0  0  0  0\n",
      "\n",
      "   13.3150   -5.7720    1.5800 C   0  0  0  0  0  0  0  0  0  0  0  0\n",
      "\n",
      "   13.6940   -4.9610    2.5670 O   0  0  0  0  0  0  0  0  0  0  0  0\n",
      "\n",
      "   13.1620   -5.1810    3.3370 H   0  0  0  0  0  0  0  0  0  0  0  0\n",
      "\n",
      "   15.2700   -6.0700   -4.8300 C   0  0  0  0  0  2  0  0  0  0  0  0\n",
      "\n",
      "   16.3800   -7.0000   -4.5200 C   0  0  0  0  0  1  0  0  0  0  0  0\n",
      "\n",
      "   15.6700   -4.5900   -4.6500 C   0  0  0  0  0  2  0  0  0  0  0  0\n",
      "\n",
      "   16.0640   -3.8790   -5.9150 C   0  0  0  0  0  2  0  0  0  0  0  0\n",
      "\n",
      "   17.4960   -4.0270   -6.2080 C   0  0  0  0  0  0  0  0  0  0  0  0\n",
      "\n",
      "   18.3780   -3.5680   -5.4730 O   0  0  0  0  0  0  0  0  0  0  0  0\n",
      "\n",
      "   17.9370   -4.7690   -7.1690 N   0  0  0  0  0  0  0  0  0  0  0  0\n",
      "\n",
      "   17.3830   -5.2500   -7.8670 H   0  0  0  0  0  0  0  0  0  0  0  0\n",
      "\n",
      "   18.9410   -4.7160   -7.2620 H   0  0  0  0  0  0  0  0  0  0  0  0\n",
      "\n"
     ]
    }
   ],
   "source": [
    "# parsing? \n",
    "\n",
    "# only reading in the frame with the lowest docking energy\n",
    "with open(flex_protein_sdfs[best_idx], 'r') as openfile: \n",
    "    lines = openfile.readlines()\n",
    "    n_atoms = int(lines[3].split(' ')[1])\n",
    "    xyz_lines = lines[3:4+n_atoms]\n",
    "\n",
    "for line in xyz_lines:\n",
    "    print(line)\n",
    "    \n"
   ]
  },
  {
   "cell_type": "code",
   "execution_count": null,
   "metadata": {},
   "outputs": [],
   "source": []
  },
  {
   "cell_type": "code",
   "execution_count": null,
   "metadata": {},
   "outputs": [],
   "source": []
  }
 ],
 "metadata": {
  "kernelspec": {
   "display_name": "test",
   "language": "python",
   "name": "python3"
  },
  "language_info": {
   "codemirror_mode": {
    "name": "ipython",
    "version": 3
   },
   "file_extension": ".py",
   "mimetype": "text/x-python",
   "name": "python",
   "nbconvert_exporter": "python",
   "pygments_lexer": "ipython3",
   "version": "3.11.4"
  }
 },
 "nbformat": 4,
 "nbformat_minor": 2
}
